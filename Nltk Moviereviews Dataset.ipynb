{
 "cells": [
  {
   "cell_type": "code",
   "execution_count": 2,
   "metadata": {},
   "outputs": [],
   "source": [
    "from nltk.corpus import movie_reviews"
   ]
  },
  {
   "cell_type": "code",
   "execution_count": 3,
   "metadata": {},
   "outputs": [
    {
     "data": {
      "text/plain": [
       "['neg', 'pos']"
      ]
     },
     "execution_count": 3,
     "metadata": {},
     "output_type": "execute_result"
    }
   ],
   "source": [
    "movie_reviews.categories()"
   ]
  },
  {
   "cell_type": "code",
   "execution_count": 4,
   "metadata": {},
   "outputs": [
    {
     "data": {
      "text/plain": [
       "['neg/cv000_29416.txt',\n",
       " 'neg/cv001_19502.txt',\n",
       " 'neg/cv002_17424.txt',\n",
       " 'neg/cv003_12683.txt',\n",
       " 'neg/cv004_12641.txt']"
      ]
     },
     "execution_count": 4,
     "metadata": {},
     "output_type": "execute_result"
    }
   ],
   "source": [
    "movie_reviews.fileids('neg')[:5]"
   ]
  },
  {
   "cell_type": "code",
   "execution_count": 5,
   "metadata": {},
   "outputs": [
    {
     "data": {
      "text/plain": [
       "['pos/cv000_29590.txt',\n",
       " 'pos/cv001_18431.txt',\n",
       " 'pos/cv002_15918.txt',\n",
       " 'pos/cv003_11664.txt',\n",
       " 'pos/cv004_11636.txt']"
      ]
     },
     "execution_count": 5,
     "metadata": {},
     "output_type": "execute_result"
    }
   ],
   "source": [
    "movie_reviews.fileids('pos')[:5]"
   ]
  },
  {
   "cell_type": "code",
   "execution_count": 6,
   "metadata": {},
   "outputs": [
    {
     "data": {
      "text/plain": [
       "2000"
      ]
     },
     "execution_count": 6,
     "metadata": {},
     "output_type": "execute_result"
    }
   ],
   "source": [
    "# number of reviews...\n",
    "len(movie_reviews.fileids())"
   ]
  },
  {
   "cell_type": "code",
   "execution_count": 7,
   "metadata": {},
   "outputs": [
    {
     "data": {
      "text/plain": [
       "1583820"
      ]
     },
     "execution_count": 7,
     "metadata": {},
     "output_type": "execute_result"
    }
   ],
   "source": [
    "#Total number of words in the dataset..\n",
    "len(movie_reviews.words())"
   ]
  },
  {
   "cell_type": "code",
   "execution_count": 8,
   "metadata": {},
   "outputs": [
    {
     "data": {
      "text/plain": [
       "'the happy bastard \\' s quick movie review damn that y2k bug . it \\' s got a head start in this movie starring jamie lee curtis and another baldwin brother ( william this time ) in a story regarding a crew of a tugboat that comes across a deserted russian tech ship that has a strangeness to it when they kick the power back on . little do they know the power within . . . going for the gore and bringing on a few action sequences here and there , virus still feels very empty , like a movie going for all flash and no substance . we don \\' t know why the crew was really out in the middle of nowhere , we don \\' t know the origin of what took over the ship ( just that a big pink flashy thing hit the mir ) , and , of course , we don \\' t know why donald sutherland is stumbling around drunkenly throughout . here , it \\' s just \" hey , let \\' s chase these people around with some robots \" . the acting is below average , even from the likes of curtis . you \\' re more likely to get a kick out of her work in halloween h20 . sutherland is wasted and baldwin , well , he \\' s acting like a baldwin , of course . the real star here are stan winston \\' s robot design , some schnazzy cgi , and the occasional good gore shot , like picking into someone \\' s brain . so , if robots and body parts really turn you on , here \\' s your movie . otherwise , it \\' s pretty much a sunken ship of a movie .'"
      ]
     },
     "execution_count": 8,
     "metadata": {},
     "output_type": "execute_result"
    }
   ],
   "source": [
    "#lets see what are the words in the negative first text file..\n",
    "\" \".join(movie_reviews.words(movie_reviews.fileids('neg')[1]))"
   ]
  },
  {
   "cell_type": "markdown",
   "metadata": {},
   "source": [
    "## Applying the concepts of Natural language processing as a part of TextPreprocessing  to get better insights on the data..\n",
    "\n",
    "### 1. Remove the stop words and punctuations that occur in the text..\n",
    "### 2. Apply stemming using Porter stemmer..\n",
    "### 3. Apply lemmatization that helps to reduce the dimensionality of the data and helps us to yield better results..here i am using WordnetLemmatizer..\n",
    "### 4. In wordnet lemmatizer i need to pass the partofspeech for this i will use pos tag in nltk.."
   ]
  },
  {
   "cell_type": "code",
   "execution_count": 9,
   "metadata": {},
   "outputs": [
    {
     "data": {
      "text/plain": [
       "['hi', 'my', 'name', 'is', 'vishnu', '...']"
      ]
     },
     "execution_count": 9,
     "metadata": {},
     "output_type": "execute_result"
    }
   ],
   "source": [
    "from nltk.tokenize import word_tokenize,sent_tokenize\n",
    "# sample code...\n",
    "str=\"hi my name is vishnu...\"\n",
    "word_tokenize(str)\n",
    "## word tokenize is like split() function in python strings.."
   ]
  },
  {
   "cell_type": "code",
   "execution_count": 10,
   "metadata": {},
   "outputs": [
    {
     "data": {
      "text/plain": [
       "['isn',\n",
       " 'it',\n",
       " \"shouldn't\",\n",
       " 'and',\n",
       " 'below',\n",
       " 'how',\n",
       " 'ma',\n",
       " 'myself',\n",
       " 'yourself',\n",
       " 'hadn',\n",
       " 'hasn',\n",
       " 'through',\n",
       " 't',\n",
       " 'over',\n",
       " \"aren't\",\n",
       " 'her',\n",
       " 'he',\n",
       " 'down',\n",
       " \"you'd\",\n",
       " 'so',\n",
       " 'were',\n",
       " 'having',\n",
       " 'haven',\n",
       " 'ourselves',\n",
       " 'after',\n",
       " 'was',\n",
       " 'again',\n",
       " 'doing',\n",
       " 'can',\n",
       " 'this',\n",
       " 'any',\n",
       " 'under',\n",
       " 's',\n",
       " 'until',\n",
       " 'between',\n",
       " 'where',\n",
       " 'to',\n",
       " 'most',\n",
       " 'does',\n",
       " \"wouldn't\",\n",
       " 'against',\n",
       " 'have',\n",
       " \"didn't\",\n",
       " 'we',\n",
       " 'the',\n",
       " 'now',\n",
       " 'wasn',\n",
       " 'in',\n",
       " 'my',\n",
       " \"hasn't\",\n",
       " \"you've\",\n",
       " \"mustn't\",\n",
       " 'as',\n",
       " 'nor',\n",
       " 'you',\n",
       " 'for',\n",
       " 'am',\n",
       " 're',\n",
       " \"wasn't\",\n",
       " 'that',\n",
       " 'his',\n",
       " 'they',\n",
       " 'what',\n",
       " 'above',\n",
       " 'mightn',\n",
       " 'why',\n",
       " 'some',\n",
       " 'ours',\n",
       " \"hadn't\",\n",
       " 'did',\n",
       " 'if',\n",
       " 'an',\n",
       " 'didn',\n",
       " \"haven't\",\n",
       " 'during',\n",
       " 'had',\n",
       " 'with',\n",
       " 'here',\n",
       " 'couldn',\n",
       " 'from',\n",
       " 'yours',\n",
       " 'd',\n",
       " 'our',\n",
       " 'same',\n",
       " 'just',\n",
       " 'when',\n",
       " 'herself',\n",
       " 'than',\n",
       " 'wouldn',\n",
       " 'their',\n",
       " 'll',\n",
       " 'me',\n",
       " 'yourselves',\n",
       " 'she',\n",
       " 'be',\n",
       " 'or',\n",
       " 'more',\n",
       " 'i',\n",
       " 'being',\n",
       " 'them',\n",
       " 'theirs',\n",
       " \"don't\",\n",
       " \"weren't\",\n",
       " \"isn't\",\n",
       " 'its',\n",
       " 'out',\n",
       " 'will',\n",
       " 'won',\n",
       " \"it's\",\n",
       " 'too',\n",
       " 'are',\n",
       " 'themselves',\n",
       " 'other',\n",
       " 'a',\n",
       " 'm',\n",
       " 'not',\n",
       " 'off',\n",
       " 'o',\n",
       " 'your',\n",
       " 'at',\n",
       " 'own',\n",
       " 'don',\n",
       " 'hers',\n",
       " 'only',\n",
       " 'y',\n",
       " 'who',\n",
       " 'all',\n",
       " 'into',\n",
       " 've',\n",
       " 'weren',\n",
       " 'itself',\n",
       " 'but',\n",
       " 'which',\n",
       " 'before',\n",
       " 'those',\n",
       " 'mustn',\n",
       " 'both',\n",
       " 'has',\n",
       " 'few',\n",
       " 'himself',\n",
       " 'do',\n",
       " 'no',\n",
       " 'very',\n",
       " \"she's\",\n",
       " 'needn',\n",
       " 'whom',\n",
       " 'such',\n",
       " 'ain',\n",
       " \"doesn't\",\n",
       " 'been',\n",
       " 'should',\n",
       " \"you're\",\n",
       " 'about',\n",
       " 'because',\n",
       " 'up',\n",
       " 'then',\n",
       " \"needn't\",\n",
       " \"mightn't\",\n",
       " 'aren',\n",
       " 'there',\n",
       " \"won't\",\n",
       " 'is',\n",
       " 'once',\n",
       " \"couldn't\",\n",
       " 'further',\n",
       " \"you'll\",\n",
       " 'shouldn',\n",
       " \"shan't\",\n",
       " \"that'll\",\n",
       " 'by',\n",
       " 'while',\n",
       " 'these',\n",
       " 'each',\n",
       " 'shan',\n",
       " 'doesn',\n",
       " 'of',\n",
       " 'him',\n",
       " \"should've\",\n",
       " 'on']"
      ]
     },
     "execution_count": 10,
     "metadata": {},
     "output_type": "execute_result"
    }
   ],
   "source": [
    "from nltk.corpus import stopwords\n",
    "stop_words_list=list(set(stopwords.words('english')))\n",
    "stop_words_list"
   ]
  },
  {
   "cell_type": "markdown",
   "metadata": {},
   "source": [
    "### All stop words are in small letters so when we are checking if any word is in stop word we need to apply lower() to see if a word in stopwords list.."
   ]
  },
  {
   "cell_type": "code",
   "execution_count": 11,
   "metadata": {},
   "outputs": [],
   "source": [
    "import string\n",
    "punctuations=list(string.punctuation)\n",
    "stop_words_list+=punctuations"
   ]
  },
  {
   "cell_type": "code",
   "execution_count": 12,
   "metadata": {},
   "outputs": [],
   "source": [
    "from nltk.stem import PorterStemmer\n",
    "from nltk.stem import WordNetLemmatizer\n",
    "## Creating object for porter stemmer..\n",
    "ps=PorterStemmer()\n",
    "## creating object for lemmatizer..\n",
    "lemmatize=WordNetLemmatizer()"
   ]
  },
  {
   "cell_type": "code",
   "execution_count": 13,
   "metadata": {},
   "outputs": [],
   "source": [
    "## Now i need to collect the data in the form of list of tuples that includes the [(text,cateogery),.....]...\n",
    "type_of_reviews=movie_reviews.categories()"
   ]
  },
  {
   "cell_type": "code",
   "execution_count": 14,
   "metadata": {},
   "outputs": [],
   "source": [
    "all_review_data=[]\n",
    "for review_type in type_of_reviews:\n",
    "    len_of_each_cateogery=len(movie_reviews.fileids(review_type))\n",
    "    for each_text_file in range(len_of_each_cateogery):\n",
    "        #word_list_in_each_file=word_tokenize(each_text_file)\n",
    "        all_review_data.append((movie_reviews.words(movie_reviews.fileids(review_type)[each_text_file]),review_type))"
   ]
  },
  {
   "cell_type": "code",
   "execution_count": 15,
   "metadata": {},
   "outputs": [
    {
     "data": {
      "text/plain": [
       "[(['plot', ':', 'two', 'teen', 'couples', 'go', 'to', ...], 'neg'),\n",
       " (['the', 'happy', 'bastard', \"'\", 's', 'quick', 'movie', ...], 'neg'),\n",
       " (['it', 'is', 'movies', 'like', 'these', 'that', 'make', ...], 'neg'),\n",
       " (['\"', 'quest', 'for', 'camelot', '\"', 'is', 'warner', ...], 'neg'),\n",
       " (['synopsis', ':', 'a', 'mentally', 'unstable', 'man', ...], 'neg')]"
      ]
     },
     "execution_count": 15,
     "metadata": {},
     "output_type": "execute_result"
    }
   ],
   "source": [
    "all_review_data[:5]"
   ]
  },
  {
   "cell_type": "code",
   "execution_count": 16,
   "metadata": {},
   "outputs": [
    {
     "data": {
      "text/plain": [
       "[(['if', 'you', \"'\", 've', 'ever', 'perused', 'my', ...], 'pos'),\n",
       " (['weighed', 'down', 'by', 'tired', 'plot', 'lines', ...], 'neg'),\n",
       " (['the', 'uncompromising', 'nudity', 'bared', ...], 'pos'),\n",
       " (['it', \"'\", 's', 'hard', 'not', 'to', 'recommend', '\"', ...], 'pos'),\n",
       " (['directed', 'by', ':', 'pixote', 'hunt', ',', ...], 'pos')]"
      ]
     },
     "execution_count": 16,
     "metadata": {},
     "output_type": "execute_result"
    }
   ],
   "source": [
    "import random\n",
    "random.shuffle(all_review_data)\n",
    "all_review_data[:5]"
   ]
  },
  {
   "cell_type": "code",
   "execution_count": 17,
   "metadata": {},
   "outputs": [],
   "source": [
    "training_data=all_review_data[:1500]\n",
    "testing_data=all_review_data[1500:]"
   ]
  },
  {
   "cell_type": "markdown",
   "metadata": {},
   "source": [
    "###  We copied all negative files and positive files in to a list of tuples.."
   ]
  },
  {
   "cell_type": "code",
   "execution_count": 18,
   "metadata": {},
   "outputs": [],
   "source": [
    "from nltk.corpus import wordnet\n",
    "from nltk import pos_tag\n",
    "def conversion_from_pos_tag_to_word_net(tag):\n",
    "    if tag.startswith('N'):\n",
    "        return wordnet.NOUN;\n",
    "    elif tag.startswith('R'):\n",
    "        return wordnet.ADV;\n",
    "    elif tag.startswith('V'):\n",
    "        return wordnet.VERB;\n",
    "    elif tag.startswith('J'):\n",
    "        return wordnet.ADJ;\n",
    "    else:\n",
    "        return wordnet.NOUN"
   ]
  },
  {
   "cell_type": "code",
   "execution_count": 19,
   "metadata": {},
   "outputs": [],
   "source": [
    "clean_words=[]\n",
    "def clean_each_given_text(words_list):\n",
    "    for each_word in words_list:\n",
    "        if each_word.lower() not in stop_words_list:\n",
    "            #print(each_word)\n",
    "            #print(stem_word)\n",
    "            lemmatize_word=lemmatize.lemmatize(each_word,pos=conversion_from_pos_tag_to_word_net(pos_tag(each_word)[0][1]))\n",
    "            lemmatize_stem_word=ps.stem(lemmatize_word)\n",
    "            clean_words.append(lemmatize_stem_word.lower())\n",
    "    return clean_words"
   ]
  },
  {
   "cell_type": "code",
   "execution_count": 20,
   "metadata": {},
   "outputs": [],
   "source": [
    "cleaned_training_data=[(clean_each_given_text(text_list),category) for text_list,category in training_data]\n",
    "cleaned_testing_data=[(clean_each_given_text(text_list),category) for text_list,category in testing_data]"
   ]
  },
  {
   "cell_type": "markdown",
   "metadata": {},
   "source": [
    "## Generally nltk classifiers need their data as feature set...\n",
    "### 1.To do this first we need to build the freq-distribution..\n",
    "### 2.And choose top -k words in the dataset as a corpus dictionary.. where k is an integer\n",
    "### 3. Use this dictionary to build the feature set.."
   ]
  },
  {
   "cell_type": "code",
   "execution_count": null,
   "metadata": {},
   "outputs": [],
   "source": [
    "all_word_in_training_data=[]\n",
    "for i in range(len(cleaned_training_data)):\n",
    "    for each_tuple in cleaned_training_data[i]:\n",
    "        for each_word in each_tuple:\n",
    "            all_word_in_training_data.append(each_word)"
   ]
  },
  {
   "cell_type": "code",
   "execution_count": null,
   "metadata": {},
   "outputs": [],
   "source": [
    "import nltk\n",
    "freq=nltk.FreqDist(all_word_in_training_data)"
   ]
  }
 ],
 "metadata": {
  "kernelspec": {
   "display_name": "Python 3",
   "language": "python",
   "name": "python3"
  },
  "language_info": {
   "codemirror_mode": {
    "name": "ipython",
    "version": 3
   },
   "file_extension": ".py",
   "mimetype": "text/x-python",
   "name": "python",
   "nbconvert_exporter": "python",
   "pygments_lexer": "ipython3",
   "version": "3.6.4"
  }
 },
 "nbformat": 4,
 "nbformat_minor": 2
}
